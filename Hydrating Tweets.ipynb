{
 "cells": [
  {
   "cell_type": "markdown",
   "id": "57c9f24d",
   "metadata": {},
   "source": [
    "# Importing Dependencies"
   ]
  },
  {
   "cell_type": "code",
   "execution_count": 2,
   "id": "8b682313",
   "metadata": {},
   "outputs": [],
   "source": [
    "import pandas as pd\n",
    "import numpy as np\n",
    "from twarc import Twarc\n",
    "import os\n",
    "import io\n",
    "import shutil\n",
    "import json"
   ]
  },
  {
   "cell_type": "code",
   "execution_count": 9,
   "id": "df9a12c0",
   "metadata": {},
   "outputs": [],
   "source": []
  },
  {
   "cell_type": "code",
   "execution_count": 18,
   "id": "e1c9c137",
   "metadata": {},
   "outputs": [],
   "source": [
    "# Tweets api keys and tokens\n",
    "\n",
    "consumer_key = \"WdqfEEBIoHgKRIIaHOGZyAlGT\"\n",
    "consumer_secret = \"PVHy2NsOa6UG8e9lOGoGzWao3yGAcD9tBCIHgUn0i7dmDouy4j\"\n",
    "access_token = \"1268368106952540160-wAHcAplmTBiB5y44jSbtBpRXjuTwMV\"\n",
    "access_token_secret = \"OIfigDKfNSp7T69sSMQIBiR2chW7CsF4Rkc7JXP6NwDzr\""
   ]
  },
  {
   "cell_type": "code",
   "execution_count": null,
   "id": "4a16fa55",
   "metadata": {},
   "outputs": [],
   "source": []
  },
  {
   "cell_type": "markdown",
   "id": "92fce255",
   "metadata": {},
   "source": [
    "# Unzipping and extracting the tweet_ids:"
   ]
  },
  {
   "cell_type": "code",
   "execution_count": 17,
   "id": "8aa5c65e",
   "metadata": {},
   "outputs": [],
   "source": [
    "# change the os where your data is available\n",
    "\n",
    "# os.chdir(\"Dataset\")\n",
    "# os.chdir(\"covid19_twitter-master\")\n",
    "# os.chdir(\"dailies\")"
   ]
  },
  {
   "cell_type": "code",
   "execution_count": 20,
   "id": "f3f18317",
   "metadata": {},
   "outputs": [],
   "source": [
    "# #unzip the .gz files in dataset folders\n",
    "# nod = 10 # no of dates datas to be included\n",
    "# for i in os.listdir()[:nod]:\n",
    "#     os.chdir(i)\n",
    "#     with gzip.open(i+'_clean-dataset.tsv.gz', 'rb') as f_in:\n",
    "#         with open(i+'_clean-dataset.tsv', 'wb') as f_out:\n",
    "#             shutil.copyfileobj(f_in, f_out)\n",
    "#     os.chdir(\"../\")"
   ]
  },
  {
   "cell_type": "markdown",
   "id": "8bbbbd2b",
   "metadata": {},
   "source": [
    "concatenate all the unzip tsv files in one file to get tweet-ids"
   ]
  },
  {
   "cell_type": "code",
   "execution_count": 19,
   "id": "6203de17",
   "metadata": {},
   "outputs": [],
   "source": [
    "# df = pd.DataFrame()\n",
    "# for name in os.listdir()[:nod]:\n",
    "#     os.chdir(name)\n",
    "#     data = pd.read_csv(name+\"_clean-dataset.tsv\",sep=\"\\t\")\n",
    "#     df = pd.concat([df, data])\n",
    "#     os.chdir(\"../\")\n",
    "# df.tocsv(\"../../tweet_id_dataset.csv\")"
   ]
  },
  {
   "cell_type": "code",
   "execution_count": 23,
   "id": "9c517585",
   "metadata": {},
   "outputs": [],
   "source": [
    "#Dont forget to change the directories as per your need"
   ]
  },
  {
   "cell_type": "markdown",
   "id": "5b11d39d",
   "metadata": {},
   "source": [
    "### Read Tweets _IDS"
   ]
  },
  {
   "cell_type": "code",
   "execution_count": 27,
   "id": "0b45e442",
   "metadata": {},
   "outputs": [],
   "source": [
    "df = pd.read_csv(\"small_dataset/tweet_id_dataset.csv\")"
   ]
  },
  {
   "cell_type": "code",
   "execution_count": 28,
   "id": "21d09a86",
   "metadata": {},
   "outputs": [
    {
     "data": {
      "text/html": [
       "<div>\n",
       "<style scoped>\n",
       "    .dataframe tbody tr th:only-of-type {\n",
       "        vertical-align: middle;\n",
       "    }\n",
       "\n",
       "    .dataframe tbody tr th {\n",
       "        vertical-align: top;\n",
       "    }\n",
       "\n",
       "    .dataframe thead th {\n",
       "        text-align: right;\n",
       "    }\n",
       "</style>\n",
       "<table border=\"1\" class=\"dataframe\">\n",
       "  <thead>\n",
       "    <tr style=\"text-align: right;\">\n",
       "      <th></th>\n",
       "      <th>Unnamed: 0</th>\n",
       "      <th>tweet_id</th>\n",
       "      <th>date</th>\n",
       "      <th>time</th>\n",
       "    </tr>\n",
       "  </thead>\n",
       "  <tbody>\n",
       "    <tr>\n",
       "      <th>0</th>\n",
       "      <td>0</td>\n",
       "      <td>1243388154213588996</td>\n",
       "      <td>2020-3-27</td>\n",
       "      <td>4:3:31</td>\n",
       "    </tr>\n",
       "    <tr>\n",
       "      <th>1</th>\n",
       "      <td>1</td>\n",
       "      <td>1243388154385580034</td>\n",
       "      <td>2020-3-27</td>\n",
       "      <td>4:3:31</td>\n",
       "    </tr>\n",
       "    <tr>\n",
       "      <th>2</th>\n",
       "      <td>2</td>\n",
       "      <td>1243388154490392577</td>\n",
       "      <td>2020-3-27</td>\n",
       "      <td>4:3:31</td>\n",
       "    </tr>\n",
       "    <tr>\n",
       "      <th>3</th>\n",
       "      <td>3</td>\n",
       "      <td>1243388154582716422</td>\n",
       "      <td>2020-3-27</td>\n",
       "      <td>4:3:31</td>\n",
       "    </tr>\n",
       "    <tr>\n",
       "      <th>4</th>\n",
       "      <td>4</td>\n",
       "      <td>1243388154737901571</td>\n",
       "      <td>2020-3-27</td>\n",
       "      <td>4:3:31</td>\n",
       "    </tr>\n",
       "  </tbody>\n",
       "</table>\n",
       "</div>"
      ],
      "text/plain": [
       "   Unnamed: 0             tweet_id       date    time\n",
       "0           0  1243388154213588996  2020-3-27  4:3:31\n",
       "1           1  1243388154385580034  2020-3-27  4:3:31\n",
       "2           2  1243388154490392577  2020-3-27  4:3:31\n",
       "3           3  1243388154582716422  2020-3-27  4:3:31\n",
       "4           4  1243388154737901571  2020-3-27  4:3:31"
      ]
     },
     "execution_count": 28,
     "metadata": {},
     "output_type": "execute_result"
    }
   ],
   "source": [
    "df.head()"
   ]
  },
  {
   "cell_type": "code",
   "execution_count": 29,
   "id": "97f927d2",
   "metadata": {},
   "outputs": [
    {
     "data": {
      "text/plain": [
       "(1785234, 4)"
      ]
     },
     "execution_count": 29,
     "metadata": {},
     "output_type": "execute_result"
    }
   ],
   "source": [
    "df.shape"
   ]
  },
  {
   "cell_type": "code",
   "execution_count": 31,
   "id": "b5269c9e",
   "metadata": {},
   "outputs": [],
   "source": [
    "# Using Twarc for hydrating the original tweets from their id\n",
    "tc = Twarc(consumer_key, consumer_secret, access_token, access_token_secret)"
   ]
  },
  {
   "cell_type": "code",
   "execution_count": 32,
   "id": "c3976ef6",
   "metadata": {},
   "outputs": [],
   "source": [
    "tweets = tc.hydrate(df[\"tweet_id\"])"
   ]
  },
  {
   "cell_type": "markdown",
   "id": "830d1320",
   "metadata": {},
   "source": [
    "Storing and hydrating the data take too much time.\n",
    "- so specify the amount of tweets you need"
   ]
  },
  {
   "cell_type": "code",
   "execution_count": 37,
   "id": "b0b28973",
   "metadata": {},
   "outputs": [],
   "source": [
    "hydrated_tweets = []\n",
    "count = 0\n",
    "no_of_tweets = 10**6\n",
    "for tweet in tweets:\n",
    "    if count >= no_of_tweets: break\n",
    "    hydrated_tweets.append([tweet[\"full_text\"],tweet[\"lang\"],tweet[\"user\"][\"location\"]])\n",
    "    count += 1\n",
    "    if (count%50000) == 0:\n",
    "        print(\"Completed\",count,\"Tweets.\")\n",
    "        "
   ]
  },
  {
   "cell_type": "code",
   "execution_count": 16,
   "id": "e6b18e16",
   "metadata": {},
   "outputs": [],
   "source": [
    "tweet_dataset = pd.DataFrame(hydrated_tweets,columns=[\"Text\",\"Language\",\"Location\"])"
   ]
  },
  {
   "cell_type": "code",
   "execution_count": 26,
   "id": "ba434d14",
   "metadata": {},
   "outputs": [],
   "source": [
    "tweet_dataset.to_csv(\"small_dataset/Tweet_dataset.csv\")"
   ]
  },
  {
   "cell_type": "code",
   "execution_count": 23,
   "id": "8543505f",
   "metadata": {
    "scrolled": true
   },
   "outputs": [],
   "source": [
    "en_tweet_dataset = tweet_dataset[tweet_dataset[\"Language\"] == \"en\"]"
   ]
  },
  {
   "cell_type": "code",
   "execution_count": 27,
   "id": "15651d62",
   "metadata": {
    "scrolled": true
   },
   "outputs": [],
   "source": [
    "en_tweet_dataset.to_csv(\"small_dataset/English_dataset.csv\")"
   ]
  },
  {
   "cell_type": "code",
   "execution_count": null,
   "id": "526592be",
   "metadata": {},
   "outputs": [],
   "source": []
  },
  {
   "cell_type": "code",
   "execution_count": 28,
   "id": "d72fef18",
   "metadata": {},
   "outputs": [
    {
     "data": {
      "text/html": [
       "<div>\n",
       "<style scoped>\n",
       "    .dataframe tbody tr th:only-of-type {\n",
       "        vertical-align: middle;\n",
       "    }\n",
       "\n",
       "    .dataframe tbody tr th {\n",
       "        vertical-align: top;\n",
       "    }\n",
       "\n",
       "    .dataframe thead th {\n",
       "        text-align: right;\n",
       "    }\n",
       "</style>\n",
       "<table border=\"1\" class=\"dataframe\">\n",
       "  <thead>\n",
       "    <tr style=\"text-align: right;\">\n",
       "      <th></th>\n",
       "      <th>Text</th>\n",
       "      <th>Language</th>\n",
       "      <th>Location</th>\n",
       "    </tr>\n",
       "  </thead>\n",
       "  <tbody>\n",
       "    <tr>\n",
       "      <th>0</th>\n",
       "      <td>📞👇🏻 Your Weber County Commissioners and team b...</td>\n",
       "      <td>en</td>\n",
       "      <td></td>\n",
       "    </tr>\n",
       "    <tr>\n",
       "      <th>3</th>\n",
       "      <td>Lost my job due to the virus and still can't g...</td>\n",
       "      <td>en</td>\n",
       "      <td></td>\n",
       "    </tr>\n",
       "    <tr>\n",
       "      <th>4</th>\n",
       "      <td>“Genomic Study Points to Natural Origin of COV...</td>\n",
       "      <td>en</td>\n",
       "      <td></td>\n",
       "    </tr>\n",
       "    <tr>\n",
       "      <th>6</th>\n",
       "      <td>Such news from SCMP, \\nso interesting https://...</td>\n",
       "      <td>en</td>\n",
       "      <td></td>\n",
       "    </tr>\n",
       "    <tr>\n",
       "      <th>7</th>\n",
       "      <td>This proves Birx lied👇🏽 https://t.co/FE6xaUDyHF</td>\n",
       "      <td>en</td>\n",
       "      <td></td>\n",
       "    </tr>\n",
       "    <tr>\n",
       "      <th>...</th>\n",
       "      <td>...</td>\n",
       "      <td>...</td>\n",
       "      <td>...</td>\n",
       "    </tr>\n",
       "    <tr>\n",
       "      <th>440329</th>\n",
       "      <td>Survey Confirms Fears of Precarious Labor Forc...</td>\n",
       "      <td>en</td>\n",
       "      <td>Los Angeles, CA</td>\n",
       "    </tr>\n",
       "    <tr>\n",
       "      <th>440330</th>\n",
       "      <td>Because. https://t.co/VcfwB6vIFK</td>\n",
       "      <td>en</td>\n",
       "      <td>Corpus Christi, Texas USA</td>\n",
       "    </tr>\n",
       "    <tr>\n",
       "      <th>440331</th>\n",
       "      <td>The NCAA Division I Council is scheduled to vo...</td>\n",
       "      <td>en</td>\n",
       "      <td>El Paso, Texas</td>\n",
       "    </tr>\n",
       "    <tr>\n",
       "      <th>440333</th>\n",
       "      <td>BarackObama: During this crisis, our grocery s...</td>\n",
       "      <td>en</td>\n",
       "      <td>New York, USA</td>\n",
       "    </tr>\n",
       "    <tr>\n",
       "      <th>440335</th>\n",
       "      <td>Bravo. Thank you. https://t.co/CXX0oiatlX</td>\n",
       "      <td>en</td>\n",
       "      <td></td>\n",
       "    </tr>\n",
       "  </tbody>\n",
       "</table>\n",
       "<p>241421 rows × 3 columns</p>\n",
       "</div>"
      ],
      "text/plain": [
       "                                                     Text Language  \\\n",
       "0       📞👇🏻 Your Weber County Commissioners and team b...       en   \n",
       "3       Lost my job due to the virus and still can't g...       en   \n",
       "4       “Genomic Study Points to Natural Origin of COV...       en   \n",
       "6       Such news from SCMP, \\nso interesting https://...       en   \n",
       "7         This proves Birx lied👇🏽 https://t.co/FE6xaUDyHF       en   \n",
       "...                                                   ...      ...   \n",
       "440329  Survey Confirms Fears of Precarious Labor Forc...       en   \n",
       "440330                   Because. https://t.co/VcfwB6vIFK       en   \n",
       "440331  The NCAA Division I Council is scheduled to vo...       en   \n",
       "440333  BarackObama: During this crisis, our grocery s...       en   \n",
       "440335          Bravo. Thank you. https://t.co/CXX0oiatlX       en   \n",
       "\n",
       "                         Location  \n",
       "0                                  \n",
       "3                                  \n",
       "4                                  \n",
       "6                                  \n",
       "7                                  \n",
       "...                           ...  \n",
       "440329            Los Angeles, CA  \n",
       "440330  Corpus Christi, Texas USA  \n",
       "440331             El Paso, Texas  \n",
       "440333              New York, USA  \n",
       "440335                             \n",
       "\n",
       "[241421 rows x 3 columns]"
      ]
     },
     "execution_count": 28,
     "metadata": {},
     "output_type": "execute_result"
    }
   ],
   "source": [
    "en_tweet_dataset"
   ]
  },
  {
   "cell_type": "code",
   "execution_count": null,
   "id": "f46fe161",
   "metadata": {},
   "outputs": [],
   "source": []
  }
 ],
 "metadata": {
  "kernelspec": {
   "display_name": "Python 3 (ipykernel)",
   "language": "python",
   "name": "python3"
  },
  "language_info": {
   "codemirror_mode": {
    "name": "ipython",
    "version": 3
   },
   "file_extension": ".py",
   "mimetype": "text/x-python",
   "name": "python",
   "nbconvert_exporter": "python",
   "pygments_lexer": "ipython3",
   "version": "3.7.9"
  }
 },
 "nbformat": 4,
 "nbformat_minor": 5
}
