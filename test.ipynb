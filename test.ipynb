{
 "cells": [
  {
   "cell_type": "code",
   "execution_count": 1,
   "id": "0b5a3988",
   "metadata": {},
   "outputs": [],
   "source": [
    "import pandas as pd\n",
    "import numpy as np\n",
    "\n",
    "from sklearn.model_selection import train_test_split\n",
    "from sklearn.naive_bayes import MultinomialNB\n",
    "\n",
    "\n",
    "# saving and loading the model\n",
    "import joblib"
   ]
  },
  {
   "cell_type": "code",
   "execution_count": 2,
   "id": "adde9371",
   "metadata": {},
   "outputs": [
    {
     "name": "stderr",
     "output_type": "stream",
     "text": [
      "c:\\users\\rohit khoiwal\\appdata\\local\\programs\\python\\python37\\lib\\site-packages\\sklearn\\feature_extraction\\image.py:167: DeprecationWarning: `np.int` is a deprecated alias for the builtin `int`. To silence this warning, use `int` by itself. Doing this will not modify any behavior and is safe. When replacing `np.int`, you may wish to use e.g. `np.int64` or `np.int32` to specify the precision. If you wish to review your current use, check the release note link for additional information.\n",
      "Deprecated in NumPy 1.20; for more details and guidance: https://numpy.org/devdocs/release/1.20.0-notes.html#deprecations\n",
      "  dtype=np.int):\n",
      "c:\\users\\rohit khoiwal\\appdata\\local\\programs\\python\\python37\\lib\\site-packages\\sklearn\\base.py:253: UserWarning: Trying to unpickle estimator CountVectorizer from version 0.24.2 when using version 0.20.4. This might lead to breaking code or invalid results. Use at your own risk.\n",
      "  UserWarning)\n",
      "c:\\users\\rohit khoiwal\\appdata\\local\\programs\\python\\python37\\lib\\site-packages\\sklearn\\base.py:253: UserWarning: Trying to unpickle estimator MultinomialNB from version 0.24.2 when using version 0.20.4. This might lead to breaking code or invalid results. Use at your own risk.\n",
      "  UserWarning)\n"
     ]
    }
   ],
   "source": [
    "vec = joblib.load(\"vec.pkl\")\n",
    "model = joblib.load(\"model.pkl\")"
   ]
  },
  {
   "cell_type": "markdown",
   "id": "689c6a67",
   "metadata": {},
   "source": [
    "-   0   for Neutral\n",
    "-   1   for Positive\n",
    "-  -1   for Negative"
   ]
  },
  {
   "cell_type": "code",
   "execution_count": 3,
   "id": "94792ca5",
   "metadata": {},
   "outputs": [
    {
     "data": {
      "text/plain": [
       "array([-1], dtype=int64)"
      ]
     },
     "execution_count": 3,
     "metadata": {},
     "output_type": "execute_result"
    }
   ],
   "source": [
    "model.predict(vec.transform(['I lost my job after the pandemic']))"
   ]
  },
  {
   "cell_type": "code",
   "execution_count": 4,
   "id": "dff93329",
   "metadata": {},
   "outputs": [
    {
     "data": {
      "text/plain": [
       "array([1], dtype=int64)"
      ]
     },
     "execution_count": 4,
     "metadata": {},
     "output_type": "execute_result"
    }
   ],
   "source": [
    "model.predict(vec.transform(['I get my job after the pandemic i am happy']))"
   ]
  },
  {
   "cell_type": "code",
   "execution_count": 5,
   "id": "18bf7f70",
   "metadata": {},
   "outputs": [
    {
     "data": {
      "text/plain": [
       "array([-1], dtype=int64)"
      ]
     },
     "execution_count": 5,
     "metadata": {},
     "output_type": "execute_result"
    }
   ],
   "source": [
    "model.predict(vec.transform(['I am sad']))"
   ]
  },
  {
   "cell_type": "code",
   "execution_count": 6,
   "id": "d62c0265",
   "metadata": {},
   "outputs": [
    {
     "data": {
      "text/plain": [
       "array([1], dtype=int64)"
      ]
     },
     "execution_count": 6,
     "metadata": {},
     "output_type": "execute_result"
    }
   ],
   "source": [
    "model.predict(vec.transform(['I am happy']))"
   ]
  },
  {
   "cell_type": "code",
   "execution_count": 8,
   "id": "bc16c4ba",
   "metadata": {},
   "outputs": [
    {
     "data": {
      "text/plain": [
       "array([0], dtype=int64)"
      ]
     },
     "execution_count": 8,
     "metadata": {},
     "output_type": "execute_result"
    }
   ],
   "source": [
    "model.predict(vec.transform(['i lost my old job but found new job which is better']))"
   ]
  },
  {
   "cell_type": "code",
   "execution_count": null,
   "id": "492e44ce",
   "metadata": {},
   "outputs": [],
   "source": []
  }
 ],
 "metadata": {
  "kernelspec": {
   "display_name": "Python 3 (ipykernel)",
   "language": "python",
   "name": "python3"
  },
  "language_info": {
   "codemirror_mode": {
    "name": "ipython",
    "version": 3
   },
   "file_extension": ".py",
   "mimetype": "text/x-python",
   "name": "python",
   "nbconvert_exporter": "python",
   "pygments_lexer": "ipython3",
   "version": "3.7.9"
  }
 },
 "nbformat": 4,
 "nbformat_minor": 5
}
